{
 "cells": [
  {
   "cell_type": "code",
   "execution_count": 10,
   "metadata": {},
   "outputs": [
    {
     "data": {
      "text/plain": [
       "'https://plotly.com/~PaulSaul/1/'"
      ]
     },
     "execution_count": 10,
     "metadata": {},
     "output_type": "execute_result"
    }
   ],
   "source": [
    "import chart_studio\n",
    "import chart_studio.plotly as py\n",
    "chart_studio.tools.set_credentials_file(username='PaulSaul', api_key='Nb6JAfBnsWt3fJuethsY')\n",
    "\n",
    "import pandas as pd\n",
    "import plotly.graph_objects as go\n",
    "df = pd.read_csv(\"time_series_covid_19_confirmed.csv\")\n",
    "df.head()\n",
    "df = df.rename(columns= {\"Country/Region\" : \"Country\", \"Province/State\": \"Province\"})\n",
    "df.head()\n",
    "\n",
    "df['text'] = df['Country'] + \" \" + df[\"4/13/20\"].astype(str)\n",
    "fig = go.Figure(data = go.Scattergeo(\n",
    "    lon = df[\"Long\"],\n",
    "    lat = df[\"Lat\"],\n",
    "    text = df[\"text\"],\n",
    "    mode = \"markers\",\n",
    "    marker = dict(\n",
    "        size = 12,\n",
    "        opacity = 0.8,\n",
    "        reversescale = True,\n",
    "        autocolorscale = True,\n",
    "        symbol = 'square',\n",
    "        line = dict(\n",
    "            width = 1,\n",
    "            color = 'rgba(102, 102, 102)'\n",
    "        ),\n",
    "        cmin = 0,\n",
    "        color = df['4/13/20'],\n",
    "        cmax = df['4/13/20'].max(),\n",
    "        colorbar_title = \"COVID 19 Reported Cases\"\n",
    "    )\n",
    "))\n",
    "\n",
    "fig.update_layout(\n",
    "    title = \"COVID19 Confirmed Cases Around the World\",\n",
    "    geo = dict(\n",
    "        scope = \"world\",\n",
    "        showland = True,\n",
    "    )\n",
    ")\n",
    "\n",
    "py.plot(fig, filename = 'COVID-19-Scatterplot', auto_open=True)"
   ]
  },
  {
   "cell_type": "code",
   "execution_count": null,
   "metadata": {},
   "outputs": [],
   "source": []
  }
 ],
 "metadata": {
  "kernelspec": {
   "display_name": "Python 3",
   "language": "python",
   "name": "python3"
  },
  "language_info": {
   "codemirror_mode": {
    "name": "ipython",
    "version": 3
   },
   "file_extension": ".py",
   "mimetype": "text/x-python",
   "name": "python",
   "nbconvert_exporter": "python",
   "pygments_lexer": "ipython3",
   "version": "3.7.4"
  }
 },
 "nbformat": 4,
 "nbformat_minor": 4
}
